{
 "metadata": {
  "language_info": {
   "codemirror_mode": {
    "name": "ipython",
    "version": 3
   },
   "file_extension": ".py",
   "mimetype": "text/x-python",
   "name": "python",
   "nbconvert_exporter": "python",
   "pygments_lexer": "ipython3",
   "version": "3.8.3-final"
  },
  "orig_nbformat": 2,
  "kernelspec": {
   "name": "python3",
   "display_name": "Python 3.8.3 64-bit (conda)",
   "metadata": {
    "interpreter": {
     "hash": "6a7100f77c390aa589c4b628fe3b4bf647e9c70ffa35f3e76563f421da5f96cf"
    }
   }
  }
 },
 "nbformat": 4,
 "nbformat_minor": 2,
 "cells": [
  {
   "cell_type": "code",
   "execution_count": null,
   "metadata": {},
   "outputs": [],
   "source": [
    "from fpdf import FPDF\n",
    "import calendar\n",
    "import numpy as np\n",
    "import pandas as pd\n",
    "from datetime import datetime\n",
    "from datetime import timedelta\n",
    "import matplotlib.pyplot as plt\n",
    "import seaborn as sb\n",
    "import arrow\n",
    "import time\n",
    "import PySimpleGUI as sg"
   ]
  },
  {
   "cell_type": "code",
   "execution_count": null,
   "metadata": {},
   "outputs": [],
   "source": [
    "# Set the Country to pulled\n",
    "country = 'China'\n",
    "# Set user name\n",
    "UN = 'mfitz' # 'mfitz' for LAPPIE, 'Me' for GLaDOS\n",
    "# Read CSVs into dataframes\n",
    "students = pd.read_csv(r'Tables\\students.csv'.format(UN, country))\n",
    "classes = pd.read_csv(r'Tables\\classes.csv'.format(UN, country))\n",
    "tests = pd.read_csv(r'Tables\\tests.csv'.format(UN, country))\n",
    "test_results = pd.read_csv(r'Tables\\test_results.csv'.format(UN, country))\n",
    "attendance = pd.read_csv(r'Tables\\attendance.csv'.format(UN, country))\n",
    "hw_g = pd.read_csv(r'Tables\\hw_grades.csv'.format(UN, country))\n",
    "hw_a = pd.read_csv(r'Tables\\hw_assignments.csv'.format(UN, country))\n",
    "participation = pd.read_csv(r'Tables\\participation.csv'.format(UN, country))"
   ]
  },
  {
   "source": [
    "## Find the Student's ID"
   ],
   "cell_type": "markdown",
   "metadata": {}
  },
  {
   "cell_type": "code",
   "execution_count": null,
   "metadata": {},
   "outputs": [],
   "source": [
    "students['STUDENT_NAME_ENGLISH']"
   ]
  },
  {
   "source": [
    "# Find the student you want to generate a report for\n",
    "student_name = 'Lydia'\n",
    "# Return a all columns from the Student DataFrame of all students with the above name\n",
    "students.loc[students['STUDENT_NAME_ENGLISH'] == student_name]"
   ],
   "cell_type": "code",
   "metadata": {},
   "execution_count": 25,
   "outputs": [
    {
     "output_type": "execute_result",
     "data": {
      "text/plain": [
       "     STUDENT_ID STUDENT_NAME_LOCAL STUDENT_NAME_ENGLISH  STUDENT_AGE  \\\n",
       "498         498                淳于拟                Lydia           11   \n",
       "\n",
       "    STUDENT_SEX STUDENT_ENROLLED  STUDENT_FIRST_DAY  STUDENT_LAST_DAY  \\\n",
       "498        male                Y                NaN               NaN   \n",
       "\n",
       "     CLASS_ID  \n",
       "498        20  "
      ],
      "text/html": "<div>\n<style scoped>\n    .dataframe tbody tr th:only-of-type {\n        vertical-align: middle;\n    }\n\n    .dataframe tbody tr th {\n        vertical-align: top;\n    }\n\n    .dataframe thead th {\n        text-align: right;\n    }\n</style>\n<table border=\"1\" class=\"dataframe\">\n  <thead>\n    <tr style=\"text-align: right;\">\n      <th></th>\n      <th>STUDENT_ID</th>\n      <th>STUDENT_NAME_LOCAL</th>\n      <th>STUDENT_NAME_ENGLISH</th>\n      <th>STUDENT_AGE</th>\n      <th>STUDENT_SEX</th>\n      <th>STUDENT_ENROLLED</th>\n      <th>STUDENT_FIRST_DAY</th>\n      <th>STUDENT_LAST_DAY</th>\n      <th>CLASS_ID</th>\n    </tr>\n  </thead>\n  <tbody>\n    <tr>\n      <th>498</th>\n      <td>498</td>\n      <td>淳于拟</td>\n      <td>Lydia</td>\n      <td>11</td>\n      <td>male</td>\n      <td>Y</td>\n      <td>NaN</td>\n      <td>NaN</td>\n      <td>20</td>\n    </tr>\n  </tbody>\n</table>\n</div>"
     },
     "metadata": {},
     "execution_count": 25
    }
   ]
  },
  {
   "cell_type": "code",
   "execution_count": 26,
   "metadata": {},
   "outputs": [],
   "source": [
    "# Set the student id to the id of the student you want.\n",
    "student_id = 498\n",
    "# Get this student's class id.\n",
    "class_id = students['CLASS_ID'].loc[students['STUDENT_ID'] == student_id]"
   ]
  },
  {
   "source": [
    "## Using a GUI"
   ],
   "cell_type": "markdown",
   "metadata": {}
  },
  {
   "cell_type": "code",
   "execution_count": 27,
   "metadata": {},
   "outputs": [],
   "source": [
    "sg.theme('DarkAmber')\n",
    "# All the stuff inside your window.\n",
    "layout = [  [sg.Text(\"Please input the student's name:\"), sg.InputText()],\n",
    "            [sg.Button('Ok'), sg.Button('Cancel')] ]\n",
    "\n",
    "# Create the Window\n",
    "window = sg.Window(\"Find a Student's ID by Name\", layout)\n",
    "# Event Loop to process \"events\" and get the \"values\" of the inputs\n",
    "while True:\n",
    "    event, values = window.read()\n",
    "    if event == sg.WIN_CLOSED or event == 'Cancel': # if user closes window or clicks cancel\n",
    "        break\n",
    "    # Find the student you want to generate a report for\n",
    "    student_name = values[0]\n",
    "    # Return all columns from the Student DataFrame of all students with the above name\n",
    "    studentsTable = students.loc[students['STUDENT_NAME_ENGLISH'] == student_name]\n",
    "    window.close()\n",
    "    layout1 = [  [sg.Text(studentsTable)],\n",
    "             [sg.Button('Ok'), sg.Button('Cancel')] ]\n",
    "\n",
    "    window1 = sg.Window(\"The Students Named {}\".format(student_name), layout1)\n",
    "    while True: \n",
    "        event, values = window.read()\n",
    "        if event == sg.WIN_CLOSED or event == 'Cancel': # if user closes window or clicks cancel\n",
    "            break\n",
    "    window1.close()"
   ]
  },
  {
   "cell_type": "code",
   "execution_count": 28,
   "metadata": {},
   "outputs": [
    {
     "output_type": "stream",
     "name": "stdout",
     "text": [
      "Show {'-IN-': 'Peter'}\n",
      "Exit {'-IN-': 'Peter'}\n"
     ]
    }
   ],
   "source": [
    "URL = 'https://pysimplegui.readthedocs.io/en/latest/cookbook/#recipe-pattern-2b-persistent-window-multiple-reads-using-an-event-loop-updates-data-in-window'\n",
    "sg.theme('BluePurple')\n",
    "\n",
    "layout = [[sg.Text('Your typed chars appear here:'), sg.Text(size=(15,1), key='-OUTPUT-')],\n",
    "          [sg.Input(key='-IN-')],\n",
    "          [sg.Button('Show'), sg.Button('Exit')]]\n",
    "\n",
    "window = sg.Window('Pattern 2B', layout)\n",
    "\n",
    "while True:  # Event Loop\n",
    "    event, values = window.read()\n",
    "    print(event, values)\n",
    "    if event == sg.WIN_CLOSED or event == 'Exit':\n",
    "        break\n",
    "    if event == 'Show':\n",
    "        # Update the \"output\" text element to be the value of \"input\" element\n",
    "        window['-OUTPUT-'].update(values['-IN-'])\n",
    "\n",
    "window.close()"
   ]
  },
  {
   "cell_type": "code",
   "execution_count": null,
   "metadata": {},
   "outputs": [],
   "source": []
  }
 ]
}